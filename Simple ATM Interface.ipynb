{
 "cells": [
  {
   "cell_type": "code",
   "execution_count": null,
   "id": "912ad6c0",
   "metadata": {},
   "outputs": [
    {
     "name": "stdout",
     "output_type": "stream",
     "text": [
      "Welcome to ABC Bank ATM\n",
      "Please enter your four-digit PIN: 1234\n"
     ]
    }
   ],
   "source": [
    "print(\"Welcome to ABC Bank ATM\")\n",
    "ATM_Pin = 1234\n",
    "Balance = 50000\n",
    "Chances = 3\n",
    "\n",
    "while Chances != 0:\n",
    "    user_pin = int(input(\"Please enter your four-digit PIN: \"))\n",
    "    if user_pin != ATM_Pin:\n",
    "        Chances -= 1\n",
    "        print(\"You have entered the wrong PIN. Please enter the correct PIN to proceed.\")\n",
    "        print(f\"You have {Chances} chances left.\")\n",
    "    else:\n",
    "        while True:\n",
    "            user_choice = input(\"B: Balance, W: Withdraw, D: Deposit: \")\n",
    "            \n",
    "            if user_choice == 'B':\n",
    "                print(f\"Your total balance is ${Balance}\")\n",
    "            \n",
    "            elif user_choice == 'W':\n",
    "                user_withdrawn = int(input(\"Enter the amount you want to withdraw: \"))\n",
    "                if user_withdrawn <= Balance:\n",
    "                    Balance -= user_withdrawn\n",
    "                    print(f\"Your current total balance is ${Balance}\")\n",
    "                else:\n",
    "                    print(\"Insufficient funds.\")\n",
    "            \n",
    "            elif user_choice == 'D':\n",
    "                user_deposit = int(input(\"Enter the amount you want to deposit in your A/C: \"))\n",
    "                Balance += user_deposit\n",
    "                print(f\"Your current total balance is ${Balance}\")\n",
    "            \n",
    "            else:\n",
    "                print(\"Invalid choice. Please choose a valid option.\")\n",
    "                continue\n",
    "            \n",
    "            user_exit = input(\"Do you want to continue the transaction? YES/NO: \")\n",
    "            if user_exit == \"NO\":\n",
    "                print(\"Thank you for using this ATM. Have a nice day!\")\n",
    "                break\n",
    "        break\n",
    "\n",
    "if Chances == 0:\n",
    "    print(\"You have entered the wrong PIN too many times. Your account is locked.\")\n"
   ]
  },
  {
   "cell_type": "code",
   "execution_count": null,
   "id": "53267741",
   "metadata": {},
   "outputs": [],
   "source": []
  }
 ],
 "metadata": {
  "kernelspec": {
   "display_name": "Python 3 (ipykernel)",
   "language": "python",
   "name": "python3"
  },
  "language_info": {
   "codemirror_mode": {
    "name": "ipython",
    "version": 3
   },
   "file_extension": ".py",
   "mimetype": "text/x-python",
   "name": "python",
   "nbconvert_exporter": "python",
   "pygments_lexer": "ipython3",
   "version": "3.11.5"
  }
 },
 "nbformat": 4,
 "nbformat_minor": 5
}
